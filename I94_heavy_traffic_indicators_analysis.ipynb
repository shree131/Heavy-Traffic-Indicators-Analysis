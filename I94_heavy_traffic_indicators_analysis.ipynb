{
 "cells": [
  {
   "cell_type": "markdown",
   "metadata": {},
   "source": [
    "# Investigating High Traffic Indicators on Westbound I-94\n",
    "\n",
    "This project takes a deeper analysis of the traffic patterns of interstate 94 in connection to some key factors, such as:\n",
    "* Weather types and conditions, including the amount of rain, cloud, and snow.\n",
    "* Time of the day, week, month, etc.\n",
    "* Temperature.\n",
    "* U.S. Holidays.\n",
    "\n",
    "The ***I-94*** is one of the longest U.S. interstate, streching ***1,585 miles*** along ***east-west*** from Billings, Montana, to Port Huron, Michigan. In deciding the project's **purpose**, we took into consideration the following factors that make I-94's traffic analysis particularly valuable for improving the overall safety and efficiency in the highway: \n",
    "* I-94 connects to near ***seven major cities***, including Minneapolis-St. Paul in Minnesota, Milwaukee in Wisconsin, and Chicago in Illinois, making it a vital transportation artery in the Midwest.\n",
    "* It's economic impact on faciliatating the ***movement of goods*** and people between major population centers, industrial hubs, and distribution centers. \n",
    "* Notorious traffic volume between the Twin Cities (Minneapolis and St. Paul).\n",
    "\n",
    "A **use case** of the analysis could be better understanding of what a normal range for traffic volume looks like for I-94, more accurately predict heavy traffic conditions, and plan beforehand for such situations based on the indicators to avoid any mishaps."
   ]
  },
  {
   "cell_type": "markdown",
   "metadata": {},
   "source": [
    "# Finding the Right Dataset\n",
    "For this analysis, we found  the [dataset](https://archive.ics.uci.edu/dataset/492/metro+interstate+traffic+volume) collected by John Hogue in the UC Irvine Machine Learning Repository that provides hourly ***Mineapolis to St. Paul*** traffic details from ***2012 - 2014/18?***. This dataset has a comprehensive record of indicators useful to our analysis.\n",
    "\n",
    "Because the dataset found only covers Mineapolis to St. Paul traffic going **east to west**, we will focus the findings of our analysis to **I-94 Westbound** traffic in order to avoid generalization. This segment of I-94 is also notoriously known for its high traffic volume. Therefore, the dataset seems to be a good fit without detering too far from the original goal.\n",
    "\n",
    "<center><img src=\".\\images\\i94_map.jpg\" alt=\"I-94 Map\" width=\"500\" height=\"300\"></center>"
   ]
  },
  {
   "cell_type": "code",
   "execution_count": 358,
   "metadata": {},
   "outputs": [
    {
     "data": {
      "text/html": [
       "<div>\n",
       "<style scoped>\n",
       "    .dataframe tbody tr th:only-of-type {\n",
       "        vertical-align: middle;\n",
       "    }\n",
       "\n",
       "    .dataframe tbody tr th {\n",
       "        vertical-align: top;\n",
       "    }\n",
       "\n",
       "    .dataframe thead th {\n",
       "        text-align: right;\n",
       "    }\n",
       "</style>\n",
       "<table border=\"1\" class=\"dataframe\">\n",
       "  <thead>\n",
       "    <tr style=\"text-align: right;\">\n",
       "      <th></th>\n",
       "      <th>holiday</th>\n",
       "      <th>temp</th>\n",
       "      <th>rain_1h</th>\n",
       "      <th>snow_1h</th>\n",
       "      <th>clouds_all</th>\n",
       "      <th>weather_main</th>\n",
       "      <th>weather_description</th>\n",
       "      <th>date_time</th>\n",
       "      <th>traffic_volume</th>\n",
       "    </tr>\n",
       "  </thead>\n",
       "  <tbody>\n",
       "    <tr>\n",
       "      <th>0</th>\n",
       "      <td>NaN</td>\n",
       "      <td>288.28</td>\n",
       "      <td>0.0</td>\n",
       "      <td>0.0</td>\n",
       "      <td>40</td>\n",
       "      <td>Clouds</td>\n",
       "      <td>scattered clouds</td>\n",
       "      <td>2012-10-02 09:00:00</td>\n",
       "      <td>5545</td>\n",
       "    </tr>\n",
       "    <tr>\n",
       "      <th>1</th>\n",
       "      <td>NaN</td>\n",
       "      <td>289.36</td>\n",
       "      <td>0.0</td>\n",
       "      <td>0.0</td>\n",
       "      <td>75</td>\n",
       "      <td>Clouds</td>\n",
       "      <td>broken clouds</td>\n",
       "      <td>2012-10-02 10:00:00</td>\n",
       "      <td>4516</td>\n",
       "    </tr>\n",
       "    <tr>\n",
       "      <th>2</th>\n",
       "      <td>NaN</td>\n",
       "      <td>289.58</td>\n",
       "      <td>0.0</td>\n",
       "      <td>0.0</td>\n",
       "      <td>90</td>\n",
       "      <td>Clouds</td>\n",
       "      <td>overcast clouds</td>\n",
       "      <td>2012-10-02 11:00:00</td>\n",
       "      <td>4767</td>\n",
       "    </tr>\n",
       "  </tbody>\n",
       "</table>\n",
       "</div>"
      ],
      "text/plain": [
       "  holiday    temp  rain_1h  snow_1h  clouds_all weather_main  \\\n",
       "0     NaN  288.28      0.0      0.0          40       Clouds   \n",
       "1     NaN  289.36      0.0      0.0          75       Clouds   \n",
       "2     NaN  289.58      0.0      0.0          90       Clouds   \n",
       "\n",
       "  weather_description            date_time  traffic_volume  \n",
       "0    scattered clouds  2012-10-02 09:00:00            5545  \n",
       "1       broken clouds  2012-10-02 10:00:00            4516  \n",
       "2     overcast clouds  2012-10-02 11:00:00            4767  "
      ]
     },
     "execution_count": 358,
     "metadata": {},
     "output_type": "execute_result"
    }
   ],
   "source": [
    "# Import the data\n",
    "import pandas as pd\n",
    "\n",
    "i94_traffic = pd.read_csv('Metro_Interstate_Traffic_Volume.csv', encoding='latin1')\n",
    "i94_traffic.head(3)"
   ]
  },
  {
   "cell_type": "code",
   "execution_count": 359,
   "metadata": {},
   "outputs": [
    {
     "data": {
      "text/html": [
       "<div>\n",
       "<style scoped>\n",
       "    .dataframe tbody tr th:only-of-type {\n",
       "        vertical-align: middle;\n",
       "    }\n",
       "\n",
       "    .dataframe tbody tr th {\n",
       "        vertical-align: top;\n",
       "    }\n",
       "\n",
       "    .dataframe thead th {\n",
       "        text-align: right;\n",
       "    }\n",
       "</style>\n",
       "<table border=\"1\" class=\"dataframe\">\n",
       "  <thead>\n",
       "    <tr style=\"text-align: right;\">\n",
       "      <th></th>\n",
       "      <th>holiday</th>\n",
       "      <th>temp</th>\n",
       "      <th>rain_1h</th>\n",
       "      <th>snow_1h</th>\n",
       "      <th>clouds_all</th>\n",
       "      <th>weather_main</th>\n",
       "      <th>weather_description</th>\n",
       "      <th>date_time</th>\n",
       "      <th>traffic_volume</th>\n",
       "    </tr>\n",
       "  </thead>\n",
       "  <tbody>\n",
       "    <tr>\n",
       "      <th>48201</th>\n",
       "      <td>NaN</td>\n",
       "      <td>282.73</td>\n",
       "      <td>0.0</td>\n",
       "      <td>0.0</td>\n",
       "      <td>90</td>\n",
       "      <td>Thunderstorm</td>\n",
       "      <td>proximity thunderstorm</td>\n",
       "      <td>2018-09-30 21:00:00</td>\n",
       "      <td>2159</td>\n",
       "    </tr>\n",
       "    <tr>\n",
       "      <th>48202</th>\n",
       "      <td>NaN</td>\n",
       "      <td>282.09</td>\n",
       "      <td>0.0</td>\n",
       "      <td>0.0</td>\n",
       "      <td>90</td>\n",
       "      <td>Clouds</td>\n",
       "      <td>overcast clouds</td>\n",
       "      <td>2018-09-30 22:00:00</td>\n",
       "      <td>1450</td>\n",
       "    </tr>\n",
       "    <tr>\n",
       "      <th>48203</th>\n",
       "      <td>NaN</td>\n",
       "      <td>282.12</td>\n",
       "      <td>0.0</td>\n",
       "      <td>0.0</td>\n",
       "      <td>90</td>\n",
       "      <td>Clouds</td>\n",
       "      <td>overcast clouds</td>\n",
       "      <td>2018-09-30 23:00:00</td>\n",
       "      <td>954</td>\n",
       "    </tr>\n",
       "  </tbody>\n",
       "</table>\n",
       "</div>"
      ],
      "text/plain": [
       "      holiday    temp  rain_1h  snow_1h  clouds_all  weather_main  \\\n",
       "48201     NaN  282.73      0.0      0.0          90  Thunderstorm   \n",
       "48202     NaN  282.09      0.0      0.0          90        Clouds   \n",
       "48203     NaN  282.12      0.0      0.0          90        Clouds   \n",
       "\n",
       "          weather_description            date_time  traffic_volume  \n",
       "48201  proximity thunderstorm  2018-09-30 21:00:00            2159  \n",
       "48202         overcast clouds  2018-09-30 22:00:00            1450  \n",
       "48203         overcast clouds  2018-09-30 23:00:00             954  "
      ]
     },
     "execution_count": 359,
     "metadata": {},
     "output_type": "execute_result"
    }
   ],
   "source": [
    "i94_traffic.tail(3)"
   ]
  },
  {
   "cell_type": "code",
   "execution_count": 360,
   "metadata": {},
   "outputs": [
    {
     "name": "stdout",
     "output_type": "stream",
     "text": [
      "<class 'pandas.core.frame.DataFrame'>\n",
      "RangeIndex: 48204 entries, 0 to 48203\n",
      "Data columns (total 9 columns):\n",
      " #   Column               Non-Null Count  Dtype  \n",
      "---  ------               --------------  -----  \n",
      " 0   holiday              61 non-null     object \n",
      " 1   temp                 48204 non-null  float64\n",
      " 2   rain_1h              48204 non-null  float64\n",
      " 3   snow_1h              48204 non-null  float64\n",
      " 4   clouds_all           48204 non-null  int64  \n",
      " 5   weather_main         48204 non-null  object \n",
      " 6   weather_description  48204 non-null  object \n",
      " 7   date_time            48204 non-null  object \n",
      " 8   traffic_volume       48204 non-null  int64  \n",
      "dtypes: float64(3), int64(2), object(4)\n",
      "memory usage: 3.3+ MB\n"
     ]
    }
   ],
   "source": [
    "i94_traffic.info()"
   ]
  },
  {
   "cell_type": "markdown",
   "metadata": {},
   "source": [
    "### Initial Observations\n",
    "\n",
    "* ***48204*** entries and ***9*** columns.\n",
    "* Type correction is needed for `date_time` for accurate time-based analysis. The rest of the data types seem consistent with the Hogue's [documentation](https://archive.ics.uci.edu/dataset/492/metro+interstate+traffic+volume) for the dataset.\n",
    "* `holiday` has only ***61 non-null*** values where most of them seem to be ***NaN*** values at a glance. According to the original [dataset](https://archive.ics.uci.edu/dataset/492/metro+interstate+traffic+volume), there should have no missing data for this column. We'll be taking a closer look at the `holiday` column to identify the issue."
   ]
  },
  {
   "cell_type": "code",
   "execution_count": 361,
   "metadata": {},
   "outputs": [
    {
     "data": {
      "text/plain": [
       "holiday\n",
       "NaN                          48143\n",
       "Labor Day                        7\n",
       "Thanksgiving Day                 6\n",
       "Christmas Day                    6\n",
       "New Years Day                    6\n",
       "Martin Luther King Jr Day        6\n",
       "Columbus Day                     5\n",
       "Veterans Day                     5\n",
       "Washingtons Birthday             5\n",
       "Memorial Day                     5\n",
       "Independence Day                 5\n",
       "State Fair                       5\n",
       "Name: count, dtype: int64"
      ]
     },
     "execution_count": 361,
     "metadata": {},
     "output_type": "execute_result"
    }
   ],
   "source": [
    "# Analyzing the holiday column for NaN values\n",
    "i94_traffic['holiday'].value_counts(dropna=False)"
   ]
  },
  {
   "cell_type": "markdown",
   "metadata": {},
   "source": [
    "After checking the original [CSV file](https://archive.ics.uci.edu/static/public/492/metro+interstate+traffic+volume.zip) using `COUNTIF`, the fields where no holidays take place have exactly ***48143*** ***\"None\"*** entries. This explains why ***48143*** entries are `NaN` as `pandas` probably interepreted `None` as missing values while importing the dataset."
   ]
  },
  {
   "cell_type": "markdown",
   "metadata": {},
   "source": [
    "## Cleaning and Prepping the Dataset for a Meaninful Analysis\n",
    "\n",
    "1. Replace the `NaN` missing values. In this case, it would be accurate to replace the NaN values with the string ***\"None\"***.\n",
    "2. Correct the `dtype` for `date_time` column for meaningful time-based analysis.\n",
    "3. Check for unexpected values in the *categorical* columns. We'll look at the *numerical* columns for outliers during the analysis stage on as needed basis. We'll look for any outliers in the *numerical* columns: `temp`, `snow_1h`, `rain_1h`, `clouds_all`, `date_time`, and `traffic_volume`.\n",
    "\n",
    "### 1. Replace the NaN missing values with \"None\":"
   ]
  },
  {
   "cell_type": "code",
   "execution_count": 362,
   "metadata": {},
   "outputs": [
    {
     "name": "stdout",
     "output_type": "stream",
     "text": [
      "<class 'pandas.core.frame.DataFrame'>\n",
      "RangeIndex: 48204 entries, 0 to 48203\n",
      "Data columns (total 9 columns):\n",
      " #   Column               Non-Null Count  Dtype  \n",
      "---  ------               --------------  -----  \n",
      " 0   holiday              48204 non-null  object \n",
      " 1   temp                 48204 non-null  float64\n",
      " 2   rain_1h              48204 non-null  float64\n",
      " 3   snow_1h              48204 non-null  float64\n",
      " 4   clouds_all           48204 non-null  int64  \n",
      " 5   weather_main         48204 non-null  object \n",
      " 6   weather_description  48204 non-null  object \n",
      " 7   date_time            48204 non-null  object \n",
      " 8   traffic_volume       48204 non-null  int64  \n",
      "dtypes: float64(3), int64(2), object(4)\n",
      "memory usage: 3.3+ MB\n"
     ]
    }
   ],
   "source": [
    "# Replace the missing values in the holiday column with \"None\"\n",
    "i94_traffic['holiday'] = i94_traffic['holiday'].fillna(\"None\")\n",
    "\n",
    "# Validate changes\n",
    "i94_traffic.info()"
   ]
  },
  {
   "cell_type": "markdown",
   "metadata": {},
   "source": [
    "All ***48204*** entries are non-null.\n",
    "\n",
    "### 2. Convert the date column to a datetime object for time-based analysis:"
   ]
  },
  {
   "cell_type": "code",
   "execution_count": 363,
   "metadata": {},
   "outputs": [
    {
     "data": {
      "text/plain": [
       "dtype('O')"
      ]
     },
     "execution_count": 363,
     "metadata": {},
     "output_type": "execute_result"
    }
   ],
   "source": [
    "# Get the current data type for the date_time column \n",
    "i94_traffic['date_time'].dtype"
   ]
  },
  {
   "cell_type": "code",
   "execution_count": 364,
   "metadata": {},
   "outputs": [
    {
     "name": "stdout",
     "output_type": "stream",
     "text": [
      "<class 'pandas.core.frame.DataFrame'>\n",
      "RangeIndex: 48204 entries, 0 to 48203\n",
      "Data columns (total 9 columns):\n",
      " #   Column               Non-Null Count  Dtype         \n",
      "---  ------               --------------  -----         \n",
      " 0   holiday              48204 non-null  object        \n",
      " 1   temp                 48204 non-null  float64       \n",
      " 2   rain_1h              48204 non-null  float64       \n",
      " 3   snow_1h              48204 non-null  float64       \n",
      " 4   clouds_all           48204 non-null  int64         \n",
      " 5   weather_main         48204 non-null  object        \n",
      " 6   weather_description  48204 non-null  object        \n",
      " 7   date_time            48204 non-null  datetime64[ns]\n",
      " 8   traffic_volume       48204 non-null  int64         \n",
      "dtypes: datetime64[ns](1), float64(3), int64(2), object(3)\n",
      "memory usage: 3.3+ MB\n"
     ]
    }
   ],
   "source": [
    "# Convert the date_time column from 'object' to a 'datetime' object\n",
    "i94_traffic['date_time'] = pd.to_datetime(i94_traffic['date_time'])\n",
    "\n",
    "i94_traffic.info()"
   ]
  },
  {
   "cell_type": "markdown",
   "metadata": {},
   "source": [
    "`date_time` column is now of *datetime64[ns]* type."
   ]
  },
  {
   "cell_type": "markdown",
   "metadata": {},
   "source": [
    "### 3. Check for unexpected values in the Categorical Columns or Outliers in Numerical Columns:\n",
    "\n",
    "We start by checking the *categorical* data to ensure the values are relevant and get of rid of any unexpected values."
   ]
  },
  {
   "cell_type": "code",
   "execution_count": 365,
   "metadata": {},
   "outputs": [
    {
     "data": {
      "text/plain": [
       "weather_main\n",
       "Clouds          15164\n",
       "Clear           13391\n",
       "Mist             5950\n",
       "Rain             5672\n",
       "Snow             2876\n",
       "Drizzle          1821\n",
       "Haze             1360\n",
       "Thunderstorm     1034\n",
       "Fog               912\n",
       "Smoke              20\n",
       "Squall              4\n",
       "Name: count, dtype: int64"
      ]
     },
     "execution_count": 365,
     "metadata": {},
     "output_type": "execute_result"
    }
   ],
   "source": [
    "i94_traffic['weather_main'].value_counts()"
   ]
  },
  {
   "cell_type": "markdown",
   "metadata": {},
   "source": [
    ">>i94_traffic['weather_description'].value_counts()\n",
    "\n",
    ">>i94_traffic['weather_description'].str.extract(pattern)\n",
    "\n",
    "We could potentially extract severity levels of each weather type from the weather description. For now, we'll keep this in the back burner since we're not sure if it's relevant to the analysis and how much value it will provide yet."
   ]
  },
  {
   "cell_type": "markdown",
   "metadata": {},
   "source": [
    "We noticed a discrepency in the `rain_1h` column. There is one value between (8848.17, 9831.3] that is different from the rest of the entries. Infact, it is z-szore away from the standard deviation. This value is too high for hourly rainfall record and is likely caused by a system error. Inorder to prevent the value from distorting the analysis, we'll change it to 0.0 (no rainfall)."
   ]
  },
  {
   "cell_type": "code",
   "execution_count": 366,
   "metadata": {},
   "outputs": [
    {
     "data": {
      "text/plain": [
       "(-9.831999999999999, 983.13]    48203\n",
       "(983.13, 1966.26]                   0\n",
       "(1966.26, 2949.39]                  0\n",
       "(2949.39, 3932.52]                  0\n",
       "(3932.52, 4915.65]                  0\n",
       "(4915.65, 5898.78]                  0\n",
       "(5898.78, 6881.91]                  0\n",
       "(6881.91, 7865.04]                  0\n",
       "(7865.04, 8848.17]                  0\n",
       "(8848.17, 9831.3]                   1\n",
       "Name: count, dtype: int64"
      ]
     },
     "execution_count": 366,
     "metadata": {},
     "output_type": "execute_result"
    }
   ],
   "source": [
    "# Check the rain column\n",
    "i94_traffic['rain_1h'].value_counts(bins = 10).sort_index()"
   ]
  },
  {
   "cell_type": "code",
   "execution_count": 367,
   "metadata": {},
   "outputs": [
    {
     "data": {
      "text/plain": [
       "(-0.0566, 5.563]    47928\n",
       "(5.563, 11.126]       201\n",
       "(11.126, 16.689]       42\n",
       "(16.689, 22.252]       16\n",
       "(22.252, 27.815]       12\n",
       "(27.815, 33.378]        3\n",
       "(33.378, 38.941]        0\n",
       "(38.941, 44.504]        1\n",
       "(44.504, 50.067]        0\n",
       "(50.067, 55.63]         1\n",
       "Name: count, dtype: int64"
      ]
     },
     "execution_count": 367,
     "metadata": {},
     "output_type": "execute_result"
    }
   ],
   "source": [
    "# Replace rain column where rain volume in a hour is greater than 1000\n",
    "i94_traffic.loc[i94_traffic['rain_1h'] > 1000, 'rain_1h'] = 0.00\n",
    "i94_traffic['rain_1h'].value_counts(bins = 10).sort_index()"
   ]
  },
  {
   "cell_type": "markdown",
   "metadata": {},
   "source": [
    "We see a more accurate distribution of rain volume after removing the outlier. \n",
    "\n",
    "All the other columns, including  `snow_1h`, `clouds_all`, `date_time`, `temp`, seem to be consistent and represent accurate data. The process will be eleiminated from the report to save space."
   ]
  },
  {
   "cell_type": "markdown",
   "metadata": {},
   "source": [
    "## Exploration: Finding Patterns in the Traffic Volume\n",
    "\n",
    "We'll now explore the distribution of a few columns for our analysis and also keep an eye for any ***outliers*** in the *numerical* columns: `temp`, `snow_1h`, `rain_1h`, `clouds_all`, `date_time`, and `traffic_volume`.\n",
    "\n",
    "We'll try to find any patterns in the traffic volume. We'll look at a few things:\n",
    "\n",
    "1. Distribution of traffic volume. We'll pursue any leads to our investigation.\n",
    "2. Time-based analysis of traffic by hour, week, month, etc. as well as differences in business days vs. weekend traffic. \n",
    "3. Can we derive any relaible correlations between traffic volume and weather, holidays, and temperature indicators? We'll pursue strong correlations further in our investigation."
   ]
  },
  {
   "cell_type": "markdown",
   "metadata": {},
   "source": [
    "### Understanding the Distribution of Traffic Volume"
   ]
  },
  {
   "cell_type": "code",
   "execution_count": 368,
   "metadata": {},
   "outputs": [
    {
     "data": {
      "image/png": "[encoded data removed]",
      "text/plain": [
       "<Figure size 640x480 with 1 Axes>"
      ]
     },
     "metadata": {},
     "output_type": "display_data"
    }
   ],
   "source": [
    "import matplotlib.pyplot as plt\n",
    "\n",
    "# Add inline magic to generate matplotlib graphs in Jupyter Notebook\n",
    "%matplotlib inline\n",
    "\n",
    "traffic_vol = i94_traffic['traffic_volume']\n",
    "\n",
    "# Visualize the distribution of traffic volume\n",
    "traffic_vol.plot.hist(xlabel='Hourly Traffic Volume', title='Distribution of Traffic Volume')\n",
    "plt.show()\n"
   ]
  },
  {
   "cell_type": "code",
   "execution_count": 369,
   "metadata": {},
   "outputs": [
    {
     "data": {
      "text/plain": [
       "count    48204.000000\n",
       "mean      3259.818355\n",
       "std       1986.860670\n",
       "min          0.000000\n",
       "25%       1193.000000\n",
       "50%       3380.000000\n",
       "75%       4933.000000\n",
       "max       7280.000000\n",
       "Name: traffic_volume, dtype: float64"
      ]
     },
     "execution_count": 369,
     "metadata": {},
     "output_type": "execute_result"
    }
   ],
   "source": [
    "# Generate key insights about Traffic Volume\n",
    "traffic_vol.describe()"
   ]
  },
  {
   "cell_type": "markdown",
   "metadata": {},
   "source": [
    "**Quick Observations:**\n",
    "\n",
    "* The traffic volume range from ***0 to 7280***, with the majority of the bulk distributed between ***0 - 500*** vehicles (8000 count) and ***4500 - 5000*** vehicles (8000 count), with an avergae of ***3,260*** vehicles.\n",
    "* About ***25%*** of the time, there were ***1,193 or fewer*** vehicles each hour. One possibility is that this is mostly representative of nighttime traffic.\n",
    "* In the ***75th percentile***, there were ***4,933 or fewer*** vechiles each hour. The rest of the 25%, the traffic exceeded 4,933 vehicles.\n",
    "\n",
    "The possibility of varying nighttime vs. daytime traffic could give a different perspective to our analysis."
   ]
  },
  {
   "cell_type": "markdown",
   "metadata": {},
   "source": [
    "### Exploring Nighttime VS Daytime Traffic Comparisions\n",
    "\n",
    "**Isolating the dataset:** Below, we seggregated the dataset into two parts:\n",
    "* Daytime data: hours from 7 a.m. to 7 p.m. (12 hours)\n",
    "* Nighttime data: hours from 7 p.m. to 7 a.m. (12 hours)\n",
    "\n",
    "*Note:* The `date_time` column has already been typed correctly in the cleaning stage to derive meaninful time-based analysis."
   ]
  },
  {
   "cell_type": "code",
   "execution_count": 370,
   "metadata": {},
   "outputs": [
    {
     "data": {
      "text/plain": [
       "date_time\n",
       "07:00:00    2079\n",
       "08:00:00    2080\n",
       "09:00:00    2018\n",
       "10:00:00    2078\n",
       "11:00:00    1952\n",
       "12:00:00    1955\n",
       "13:00:00    1905\n",
       "14:00:00    1969\n",
       "15:00:00    1934\n",
       "16:00:00    1988\n",
       "17:00:00    1933\n",
       "18:00:00    1986\n",
       "Name: count, dtype: int64"
      ]
     },
     "execution_count": 370,
     "metadata": {},
     "output_type": "execute_result"
    }
   ],
   "source": [
    "import datetime as dt\n",
    "\n",
    "date_col = i94_traffic['date_time']\n",
    "\n",
    "# Create a boolean for daytime data selection - [7:00:00. - 19:00:00).\n",
    "daytime_bool = (date_col.dt.time >= dt.time(7, 0, 0)) & (date_col.dt.time < dt.time(19, 0, 0))\n",
    "\n",
    "i94_traffic['time_of_day'] = ''\n",
    "i94_traffic.loc[daytime_bool, 'time_of_day'] = 'Daytime'\n",
    "\n",
    "# Verify the isolated daytime traffic dataframe\n",
    "i94_traffic.loc[daytime_bool, 'date_time'].dt.time.value_counts().sort_index()"
   ]
  },
  {
   "cell_type": "code",
   "execution_count": 371,
   "metadata": {},
   "outputs": [
    {
     "data": {
      "text/plain": [
       "date_time\n",
       "00:00:00    2037\n",
       "01:00:00    2049\n",
       "02:00:00    2019\n",
       "03:00:00    2025\n",
       "04:00:00    2091\n",
       "05:00:00    2063\n",
       "06:00:00    2087\n",
       "19:00:00    1961\n",
       "20:00:00    1979\n",
       "21:00:00    1982\n",
       "22:00:00    1994\n",
       "23:00:00    2040\n",
       "Name: count, dtype: int64"
      ]
     },
     "execution_count": 371,
     "metadata": {},
     "output_type": "execute_result"
    }
   ],
   "source": [
    "# Create a boolean for nighttime data selection - [00:00:00 - 7:00:00) and [19:00:00 - 23:00:00]\n",
    "nighttime_bool = (date_col.dt.time >= dt.time(19, 0, 0)) | (date_col.dt.time < dt.time(7, 0, 0))\n",
    "\n",
    "i94_traffic.loc[nighttime_bool, 'time_of_day'] = 'Nighttime'\n",
    "i94_traffic.loc[nighttime_bool, 'date_time'].dt.time.value_counts().sort_index()"
   ]
  },
  {
   "cell_type": "markdown",
   "metadata": {},
   "source": [
    "**Comparing the distributions of Nighttime VS Daytime traffic volume:**"
   ]
  },
  {
   "cell_type": "code",
   "execution_count": 372,
   "metadata": {},
   "outputs": [
    {
     "data": {
      "text/plain": [
       "<Figure size 2000x2500 with 0 Axes>"
      ]
     },
     "metadata": {},
     "output_type": "display_data"
    },
    {
     "data": {
      "image/png": "[encoded data removed]",
      "text/plain": [
       "<Figure size 618.75x500 with 1 Axes>"
      ]
     },
     "metadata": {},
     "output_type": "display_data"
    }
   ],
   "source": [
    "import seaborn as sns\n",
    "\n",
    "# Get all colors from tab10 color palette\n",
    "palette_colors = sns.color_palette('tab10')\n",
    "color_map = {'Daytime': palette_colors[1], \n",
    "             'Nighttime': palette_colors[0]\n",
    "            }\n",
    "\n",
    "# Plot a grouped historgram to compare the two dataset's distributions\n",
    "plt.figure(figsize=(20, 25))\n",
    "sns.displot(data=i94_traffic, x=\"traffic_volume\", hue=\"time_of_day\", palette=color_map)\n",
    "\n",
    "plt.title('Daytime VS Nighttime Traffic Distribution')\n",
    "plt.xlabel('Traffic Volume')\n",
    "plt.ylabel('Count')\n",
    "plt.xlim(0, 7500)\n",
    "\n",
    "plt.show()"
   ]
  },
  {
   "cell_type": "code",
   "execution_count": 373,
   "metadata": {},
   "outputs": [
    {
     "data": {
      "text/plain": [
       "count    23877.000000\n",
       "mean      4762.047452\n",
       "std       1174.546482\n",
       "min          0.000000\n",
       "25%       4252.000000\n",
       "50%       4820.000000\n",
       "75%       5559.000000\n",
       "max       7280.000000\n",
       "Name: traffic_volume, dtype: float64"
      ]
     },
     "execution_count": 373,
     "metadata": {},
     "output_type": "execute_result"
    }
   ],
   "source": [
    "# Generate Insights for Daytime traffic\n",
    "i94_traffic.loc[daytime_bool, 'traffic_volume'].describe()"
   ]
  },
  {
   "cell_type": "code",
   "execution_count": 374,
   "metadata": {},
   "outputs": [
    {
     "data": {
      "text/plain": [
       "count    24327.000000\n",
       "mean      1785.377441\n",
       "std       1441.951197\n",
       "min          0.000000\n",
       "25%        530.000000\n",
       "50%       1287.000000\n",
       "75%       2819.000000\n",
       "max       6386.000000\n",
       "Name: traffic_volume, dtype: float64"
      ]
     },
     "execution_count": 374,
     "metadata": {},
     "output_type": "execute_result"
    }
   ],
   "source": [
    "# Generate Insights for Nighttime traffic\n",
    "i94_traffic.loc[nighttime_bool, 'traffic_volume'].describe()"
   ]
  },
  {
   "cell_type": "markdown",
   "metadata": {},
   "source": [
    "**Observations:**\n",
    "\n",
    "The Nighttime traffic has a ***right-skewed*** distribution with ***75%*** of the hourly traffic less than or equal to 2,819. On the other hand, the daytime traffic is almost ***normally distributed*** historgram with the majority of bulk located somewhere between 4,500 - 5000 and with ***50%*** of the time over 4,820 traffic per hour. The nightime traffic also only ranges between 0 to 6,386, much less in comparision to the daytime traffic ranging anywhere between 0 to 7,280 traffic volume.\n",
    "\n",
    "Because the goal is to find indicators of *High* traffic, the daytime traffic distribution looks promising. Wel'll isolate the daytime traffic dataset and focus the analysis on it moving forward."
   ]
  },
  {
   "cell_type": "markdown",
   "metadata": {},
   "source": [
    "**Isolate Daytime Dataset to Conitnue Analysis on Daytime Traffic Only:**"
   ]
  },
  {
   "cell_type": "code",
   "execution_count": 375,
   "metadata": {},
   "outputs": [
    {
     "data": {
      "text/plain": [
       "date_time\n",
       "07:00:00    2079\n",
       "08:00:00    2080\n",
       "09:00:00    2018\n",
       "10:00:00    2078\n",
       "11:00:00    1952\n",
       "12:00:00    1955\n",
       "13:00:00    1905\n",
       "14:00:00    1969\n",
       "15:00:00    1934\n",
       "16:00:00    1988\n",
       "17:00:00    1933\n",
       "18:00:00    1986\n",
       "Name: count, dtype: int64"
      ]
     },
     "execution_count": 375,
     "metadata": {},
     "output_type": "execute_result"
    }
   ],
   "source": [
    "# Isolate daytime traffic from the original dataset based on the daytime boolean criteria\n",
    "daytime_traffic = i94_traffic.copy().loc[daytime_bool]\n",
    "\n",
    "# Verify the isolated daytime traffic dataframe\n",
    "daytime_traffic['date_time'].dt.time.value_counts().sort_index()"
   ]
  },
  {
   "cell_type": "markdown",
   "metadata": {},
   "source": [
    "### Time-based Traffic Volume Traffic Indicators\n",
    "\n",
    "One of the possible indicators of heavy traffic is time. There might be more people on the road in a certain month, on a certain day, or at a certain time of the day. We're going to look at a few line plots showing how the traffic volume changed according to the following parameters:\n",
    " 1. Month\n",
    " 2. Day of the week\n",
    " 3. Time of day"
   ]
  },
  {
   "cell_type": "markdown",
   "metadata": {},
   "source": [
    "**1. Monthly Traffic Patterns**:"
   ]
  },
  {
   "cell_type": "code",
   "execution_count": 415,
   "metadata": {},
   "outputs": [
    {
     "data": {
      "text/html": [
       "<div>\n",
       "<style scoped>\n",
       "    .dataframe tbody tr th:only-of-type {\n",
       "        vertical-align: middle;\n",
       "    }\n",
       "\n",
       "    .dataframe tbody tr th {\n",
       "        vertical-align: top;\n",
       "    }\n",
       "\n",
       "    .dataframe thead th {\n",
       "        text-align: right;\n",
       "    }\n",
       "</style>\n",
       "<table border=\"1\" class=\"dataframe\">\n",
       "  <thead>\n",
       "    <tr style=\"text-align: right;\">\n",
       "      <th></th>\n",
       "      <th>date_time</th>\n",
       "      <th>month</th>\n",
       "    </tr>\n",
       "  </thead>\n",
       "  <tbody>\n",
       "    <tr>\n",
       "      <th>5000</th>\n",
       "      <td>2013-04-11 14:00:00</td>\n",
       "      <td>4</td>\n",
       "    </tr>\n",
       "    <tr>\n",
       "      <th>5001</th>\n",
       "      <td>2013-04-11 15:00:00</td>\n",
       "      <td>4</td>\n",
       "    </tr>\n",
       "    <tr>\n",
       "      <th>5002</th>\n",
       "      <td>2013-04-11 16:00:00</td>\n",
       "      <td>4</td>\n",
       "    </tr>\n",
       "    <tr>\n",
       "      <th>5003</th>\n",
       "      <td>2013-04-11 17:00:00</td>\n",
       "      <td>4</td>\n",
       "    </tr>\n",
       "    <tr>\n",
       "      <th>5004</th>\n",
       "      <td>2013-04-11 18:00:00</td>\n",
       "      <td>4</td>\n",
       "    </tr>\n",
       "    <tr>\n",
       "      <th>...</th>\n",
       "      <td>...</td>\n",
       "      <td>...</td>\n",
       "    </tr>\n",
       "    <tr>\n",
       "      <th>7496</th>\n",
       "      <td>2013-07-07 12:00:00</td>\n",
       "      <td>7</td>\n",
       "    </tr>\n",
       "    <tr>\n",
       "      <th>7497</th>\n",
       "      <td>2013-07-07 13:00:00</td>\n",
       "      <td>7</td>\n",
       "    </tr>\n",
       "    <tr>\n",
       "      <th>7498</th>\n",
       "      <td>2013-07-07 14:00:00</td>\n",
       "      <td>7</td>\n",
       "    </tr>\n",
       "    <tr>\n",
       "      <th>7499</th>\n",
       "      <td>2013-07-07 15:00:00</td>\n",
       "      <td>7</td>\n",
       "    </tr>\n",
       "    <tr>\n",
       "      <th>7500</th>\n",
       "      <td>2013-07-07 16:00:00</td>\n",
       "      <td>7</td>\n",
       "    </tr>\n",
       "  </tbody>\n",
       "</table>\n",
       "<p>1256 rows × 2 columns</p>\n",
       "</div>"
      ],
      "text/plain": [
       "               date_time  month\n",
       "5000 2013-04-11 14:00:00      4\n",
       "5001 2013-04-11 15:00:00      4\n",
       "5002 2013-04-11 16:00:00      4\n",
       "5003 2013-04-11 17:00:00      4\n",
       "5004 2013-04-11 18:00:00      4\n",
       "...                  ...    ...\n",
       "7496 2013-07-07 12:00:00      7\n",
       "7497 2013-07-07 13:00:00      7\n",
       "7498 2013-07-07 14:00:00      7\n",
       "7499 2013-07-07 15:00:00      7\n",
       "7500 2013-07-07 16:00:00      7\n",
       "\n",
       "[1256 rows x 2 columns]"
      ]
     },
     "execution_count": 415,
     "metadata": {},
     "output_type": "execute_result"
    }
   ],
   "source": [
    "# Extract the month from date_time column\n",
    "daytime_traffic['month'] = daytime_traffic['date_time'].dt.month\n",
    "\n",
    "# Verify the month column data\n",
    "daytime_traffic.loc[5000:7500,['date_time', 'month']]"
   ]
  },
  {
   "cell_type": "code",
   "execution_count": 461,
   "metadata": {},
   "outputs": [
    {
     "data": {
      "image/png": "[encoded data removed]",
      "text/plain": [
       "<Figure size 640x480 with 1 Axes>"
      ]
     },
     "metadata": {},
     "output_type": "display_data"
    }
   ],
   "source": [
    "# Group dataset by month to get monthly traffic average/mean\n",
    "mean_by_month = daytime_traffic.pivot_table(values='traffic_volume', index='month', aggfunc='mean')\n",
    "\n",
    "mean_by_month['traffic_volume'].plot.line()\n",
    "\n",
    "plt.xticks(mean_by_month.index, ['Jan', 'Feb', 'Mar', 'Apr', 'May', 'Jun', 'Jul', 'Aug', 'Sep', 'Oct', 'Nov', 'Dec'])\n",
    "\n",
    "plt.title('Average Traffic Vol. by Month')\n",
    "plt.xlabel('Month')\n",
    "plt.ylabel('Traffic Vol.')\n",
    "#plt.axhline(daytime_traffic['traffic_volume'].mean(), label='Avg. traffic')\n",
    "plt.legend()\n",
    "\n",
    "plt.show()\n"
   ]
  },
  {
   "cell_type": "markdown",
   "metadata": {},
   "source": [
    "**Observations:**\n",
    "\n",
    "* The average traffic volume in the *winter months* (December, January, Feburary) are particularly lower, with the lowest traffic being in December.\n",
    "* The avergae traffic colume in the *warmer months* are usually high.\n",
    "* ***Exception:*** The average traffic takes a nose dive in *July*, one of the warmer months. Could there be other factors involved? We'll plot a yearly traffic trends for July to possibly get insights."
   ]
  },
  {
   "cell_type": "code",
   "execution_count": 433,
   "metadata": {},
   "outputs": [
    {
     "data": {
      "text/plain": [
       "Text(0, 0.5, 'Traffic Vol.')"
      ]
     },
     "execution_count": 433,
     "metadata": {},
     "output_type": "execute_result"
    },
    {
     "data": {
      "image/png": "[encoded data removed]",
      "text/plain": [
       "<Figure size 640x480 with 1 Axes>"
      ]
     },
     "metadata": {},
     "output_type": "display_data"
    }
   ],
   "source": [
    "# Isolate July traffic data\n",
    "july_traffic = daytime_traffic[daytime_traffic['month'] == 7]\n",
    "\n",
    "# Extract the year from date_time column\n",
    "daytime_traffic['year'] = daytime_traffic['date_time'].dt.year\n",
    "\n",
    "# Get average yearly traffic volume\n",
    "july_traffic.pivot_table(values='traffic_volume', index='year', aggfunc='mean').plot.line()\n",
    "\n",
    "plt.title('Avg. July Traffic Vol. by Year')\n",
    "plt.xlabel('Year')\n",
    "plt.ylabel('Traffic Vol.')\n"
   ]
  },
  {
   "cell_type": "markdown",
   "metadata": {},
   "source": [
    "Typically, the traffic is pretty heavy in July, similar to the other warm months. The only exception we see is 2016, which had a high decrease in traffic volume. One possible reason for this is road construction — this article from 2016 supports this hypothesis.\n",
    "\n",
    "As a tentative conclusion here, we can say that warm months generally show heavier traffic compared to cold months. In a warm month, you can can expect for each hour of daytime a traffic volume close to 5,000 cars.\n",
    "\n",
    "For some reason, the July traffic volume in the year 2016 takes a nose dive. Possibly, an external factors, such as constrution work in July 2016, could explain this unexpected result. \n",
    "\n",
    "What is the average traffic in warmer months excluding 2016 July data? This will likely be a good ballpark."
   ]
  },
  {
   "cell_type": "markdown",
   "metadata": {},
   "source": [
    "**2. Day of the Week Traffic Patterns**:\n",
    "\n",
    "We'll now continue with building line plots for another time unit: day of the week."
   ]
  },
  {
   "cell_type": "code",
   "execution_count": 438,
   "metadata": {},
   "outputs": [],
   "source": [
    "# Extract day of the week from date_time column\n",
    "daytime_traffic['dayofweek'] = daytime_traffic['date_time'].dt.dayofweek"
   ]
  },
  {
   "cell_type": "code",
   "execution_count": 462,
   "metadata": {},
   "outputs": [
    {
     "data": {
      "image/png": "[encoded data removed]",
      "text/plain": [
       "<Figure size 640x480 with 1 Axes>"
      ]
     },
     "metadata": {},
     "output_type": "display_data"
    }
   ],
   "source": [
    "# Get traffic average/mean by day of week\n",
    "mean_by_dayofweek = daytime_traffic.pivot_table(values='traffic_volume', index='dayofweek', aggfunc='mean')\n",
    "\n",
    "# Plot a line graph\n",
    "mean_by_dayofweek.plot.line(label='Average traffic')\n",
    "\n",
    "plt.legend()\n",
    "plt.title('Avg. Traffic Volume by Day of Week')\n",
    "plt.xlabel('Day of Week')\n",
    "plt.ylabel('Traffic Vol.')\n",
    "\n",
    "# Customize the xticks\n",
    "plt.xticks(mean_by_dayofweek.index, ['Mon', 'Tue', 'Wed', 'Thur', 'Fri', 'Sat', 'Sun'])\n",
    "\n",
    "plt.show()"
   ]
  },
  {
   "cell_type": "code",
   "execution_count": 469,
   "metadata": {},
   "outputs": [
    {
     "data": {
      "text/plain": [
       "4762.0"
      ]
     },
     "execution_count": 469,
     "metadata": {},
     "output_type": "execute_result"
    }
   ],
   "source": [
    "round(daytime_traffic['traffic_volume'].mean(), 0)"
   ]
  },
  {
   "cell_type": "markdown",
   "metadata": {},
   "source": [
    "**Observations:**\n",
    "\n",
    "Typically, the avergae traffic volume is significantly heavier during the ***business days***, peaking on Friday. Traffic plunges on the ***weekend*** (Sat - Sun) and generally stays lighter, with values below 4,000 vehicles per hour compared to the average traffic of 4,762."
   ]
  },
  {
   "cell_type": "markdown",
   "metadata": {},
   "source": [
    "**3. Hourly Traffic Trends for Business Days VS Weekend:**\n",
    "\n",
    "We'll now generate a line plot for the time of day. The weekends, however, will drag down the average values, so we're going to look at the averages separately. \n",
    "To do that, we'll start by extracting the hour."
   ]
  },
  {
   "cell_type": "code",
   "execution_count": 482,
   "metadata": {},
   "outputs": [],
   "source": [
    "# Extract the hour from date_time column\n",
    "daytime_traffic['hour'] = daytime_traffic['date_time'].dt.hour"
   ]
  },
  {
   "cell_type": "markdown",
   "metadata": {},
   "source": [
    "We'll be splitting the data based on the day type: business day or weekend."
   ]
  },
  {
   "cell_type": "code",
   "execution_count": 483,
   "metadata": {},
   "outputs": [],
   "source": [
    "# Separate the business days (Mon=Fri) traffic from the dataset\n",
    "weekdays_traffic = daytime_traffic[daytime_traffic['dayofweek'] <= 4]\n",
    "\n",
    "# Separate the weekend (Sat-Sun) traffic from the dataset\n",
    "weekend_traffic = daytime_traffic[daytime_traffic['dayofweek'] >= 5]"
   ]
  },
  {
   "cell_type": "markdown",
   "metadata": {},
   "source": [
    "Now, we'll group each dataset by hour and calculate the mean to compare the average hourly traffic volume between business days and the weekend days."
   ]
  },
  {
   "cell_type": "code",
   "execution_count": 484,
   "metadata": {},
   "outputs": [
    {
     "data": {
      "text/html": [
       "<div>\n",
       "<style scoped>\n",
       "    .dataframe tbody tr th:only-of-type {\n",
       "        vertical-align: middle;\n",
       "    }\n",
       "\n",
       "    .dataframe tbody tr th {\n",
       "        vertical-align: top;\n",
       "    }\n",
       "\n",
       "    .dataframe thead th {\n",
       "        text-align: right;\n",
       "    }\n",
       "</style>\n",
       "<table border=\"1\" class=\"dataframe\">\n",
       "  <thead>\n",
       "    <tr style=\"text-align: right;\">\n",
       "      <th></th>\n",
       "      <th>traffic_volume</th>\n",
       "    </tr>\n",
       "  </thead>\n",
       "  <tbody>\n",
       "    <tr>\n",
       "      <th>count</th>\n",
       "      <td>12.000000</td>\n",
       "    </tr>\n",
       "    <tr>\n",
       "      <th>mean</th>\n",
       "      <td>5192.498812</td>\n",
       "    </tr>\n",
       "    <tr>\n",
       "      <th>std</th>\n",
       "      <td>615.622781</td>\n",
       "    </tr>\n",
       "    <tr>\n",
       "      <th>min</th>\n",
       "      <td>4378.419118</td>\n",
       "    </tr>\n",
       "    <tr>\n",
       "      <th>25%</th>\n",
       "      <td>4799.891475</td>\n",
       "    </tr>\n",
       "    <tr>\n",
       "      <th>50%</th>\n",
       "      <td>5024.132518</td>\n",
       "    </tr>\n",
       "    <tr>\n",
       "      <th>75%</th>\n",
       "      <td>5640.880110</td>\n",
       "    </tr>\n",
       "    <tr>\n",
       "      <th>max</th>\n",
       "      <td>6189.473647</td>\n",
       "    </tr>\n",
       "  </tbody>\n",
       "</table>\n",
       "</div>"
      ],
      "text/plain": [
       "       traffic_volume\n",
       "count       12.000000\n",
       "mean      5192.498812\n",
       "std        615.622781\n",
       "min       4378.419118\n",
       "25%       4799.891475\n",
       "50%       5024.132518\n",
       "75%       5640.880110\n",
       "max       6189.473647"
      ]
     },
     "execution_count": 484,
     "metadata": {},
     "output_type": "execute_result"
    }
   ],
   "source": [
    "# Get the average traffic volume for business days grouped by the hour of the day\n",
    "weekdays_hourly_traffic = weekdays_traffic.pivot_table(values='traffic_volume', index='hour', aggfunc='mean')\n",
    "\n",
    "weekdays_hourly_traffic.describe()"
   ]
  },
  {
   "cell_type": "code",
   "execution_count": 486,
   "metadata": {},
   "outputs": [
    {
     "data": {
      "text/html": [
       "<div>\n",
       "<style scoped>\n",
       "    .dataframe tbody tr th:only-of-type {\n",
       "        vertical-align: middle;\n",
       "    }\n",
       "\n",
       "    .dataframe tbody tr th {\n",
       "        vertical-align: top;\n",
       "    }\n",
       "\n",
       "    .dataframe thead th {\n",
       "        text-align: right;\n",
       "    }\n",
       "</style>\n",
       "<table border=\"1\" class=\"dataframe\">\n",
       "  <thead>\n",
       "    <tr style=\"text-align: right;\">\n",
       "      <th></th>\n",
       "      <th>traffic_volume</th>\n",
       "    </tr>\n",
       "  </thead>\n",
       "  <tbody>\n",
       "    <tr>\n",
       "      <th>count</th>\n",
       "      <td>12.000000</td>\n",
       "    </tr>\n",
       "    <tr>\n",
       "      <th>mean</th>\n",
       "      <td>3709.128440</td>\n",
       "    </tr>\n",
       "    <tr>\n",
       "      <th>std</th>\n",
       "      <td>911.307344</td>\n",
       "    </tr>\n",
       "    <tr>\n",
       "      <th>min</th>\n",
       "      <td>1589.365894</td>\n",
       "    </tr>\n",
       "    <tr>\n",
       "      <th>25%</th>\n",
       "      <td>3542.880206</td>\n",
       "    </tr>\n",
       "    <tr>\n",
       "      <th>50%</th>\n",
       "      <td>4098.037442</td>\n",
       "    </tr>\n",
       "    <tr>\n",
       "      <th>75%</th>\n",
       "      <td>4346.478609</td>\n",
       "    </tr>\n",
       "    <tr>\n",
       "      <th>max</th>\n",
       "      <td>4372.482883</td>\n",
       "    </tr>\n",
       "  </tbody>\n",
       "</table>\n",
       "</div>"
      ],
      "text/plain": [
       "       traffic_volume\n",
       "count       12.000000\n",
       "mean      3709.128440\n",
       "std        911.307344\n",
       "min       1589.365894\n",
       "25%       3542.880206\n",
       "50%       4098.037442\n",
       "75%       4346.478609\n",
       "max       4372.482883"
      ]
     },
     "execution_count": 486,
     "metadata": {},
     "output_type": "execute_result"
    }
   ],
   "source": [
    "# Get the average traffic volume for weekend grouped by the hour of the day\n",
    "weekend_hourly_traffic = weekend_traffic.pivot_table(values='traffic_volume', index='hour', aggfunc='mean')\n",
    "\n",
    "weekend_hourly_traffic.describe()"
   ]
  },
  {
   "cell_type": "code",
   "execution_count": 502,
   "metadata": {},
   "outputs": [
    {
     "data": {
      "text/plain": [
       "(1500.0, 6500.0)"
      ]
     },
     "execution_count": 502,
     "metadata": {},
     "output_type": "execute_result"
    },
    {
     "data": {
      "image/png": "[encoded data removed]",
      "text/plain": [
       "<Figure size 1200x400 with 2 Axes>"
      ]
     },
     "metadata": {},
     "output_type": "display_data"
    }
   ],
   "source": [
    "# Plot a line graph to compare hourly business days vs weekend traffic\n",
    "\n",
    "plt.figure(figsize=(12, 4))\n",
    "\n",
    "plt.subplot(1, 2, 1)\n",
    "weekdays_hourly_traffic['traffic_volume'].plot.line(xlabel='Hours', ylabel='Traffic Vol.')\n",
    "plt.title('Bussiness Day Traffic Vol. by Hour')\n",
    "plt.xlim(6, 20)\n",
    "plt.ylim(1500,6500)\n",
    "\n",
    "plt.subplot(1, 2, 2)\n",
    "weekend_hourly_traffic['traffic_volume'].plot.line(xlabel='Hours', ylabel='Traffic Vol.')\n",
    "plt.title('Weekend Traffic Vol. by Hour')\n",
    "plt.xlim(6, 20)\n",
    "plt.ylim(1500,6500)\n"
   ]
  },
  {
   "cell_type": "markdown",
   "metadata": {},
   "source": [
    "**Observations:**\n",
    "* Business Day: Between 6:30 AM to 6 PM. Rush hours: 5 PM. Decrease at 10 am to 2 PM.\n",
    "* Weekend Traffic: Peaks during mid-day 12 PM to 4 PM. Almost constant. Not much traffic during early mornings: 6 - 10."
   ]
  },
  {
   "cell_type": "markdown",
   "metadata": {},
   "source": [
    "# Closer look at holiday column\n",
    "\n",
    "i94_traffic['holiday'].value_counts()"
   ]
  }
 ],
 "metadata": {
  "kernelspec": {
   "display_name": "Python 3",
   "language": "python",
   "name": "python3"
  },
  "language_info": {
   "codemirror_mode": {
    "name": "ipython",
    "version": 3
   },
   "file_extension": ".py",
   "mimetype": "text/x-python",
   "name": "python",
   "nbconvert_exporter": "python",
   "pygments_lexer": "ipython3",
   "version": "3.9.2"
  }
 },
 "nbformat": 4,
 "nbformat_minor": 4
}
