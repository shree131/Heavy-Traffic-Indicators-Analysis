{
 "cells": [
  {
   "cell_type": "markdown",
   "metadata": {},
   "source": [
    "# Investigating High Traffic Indicators on Westbound I-94\n",
    "\n",
    "This project takes a deeper analysis of the traffic patterns of interstate 94 in connection to some major factors, such as:\n",
    "* Weather types and conditions, including the amount of rain, cloud, and snow\n",
    "* Time of day, time of the week, etc.\n",
    "* Temperature\n",
    "* U.S. Holidays\n",
    "\n",
    "The ***I-94*** is one of the longest U.S. interstate, streching ***1,585 miles*** along ***east-west*** from Billings, Montana, to Port Huron, Michigan. In deciding the project's **purpose**, we took into consideration the following factors that make I-94's traffic analysis particularly valuable for improving the overall safety and efficiency in the highway: \n",
    "* I-94 connects to near ***seven major cities***, including Minneapolis-St. Paul in Minnesota, Milwaukee in Wisconsin, and Chicago in Illinois, making it a vital transportation artery in the Midwest.\n",
    "* It's economic impact on faciliatating the ***movement of goods*** and people between major population centers, industrial hubs, and distribution centers. \n",
    "* Notorious traffic volume between the Twin Cities (Minneapolis and St. Paul).\n",
    "\n",
    "A **use case** of the analysis could be better understanding of what a normal range for traffic volume looks like for I-94, more accurately predict heavy traffic conditions, and plan beforehand for such situations based on the indicators to avoid any mishaps."
   ]
  },
  {
   "cell_type": "markdown",
   "metadata": {},
   "source": [
    "# Finding the Right Dataset\n",
    "For this analysis, we found  the [dataset](https://archive.ics.uci.edu/dataset/492/metro+interstate+traffic+volume) collected by John Hogue in the UC Irvine Machine Learning Repository that provides hourly ***Mineapolis to St. Paul*** traffic details from ***2012 - 2014/18?***.\n",
    "\n",
    "Because the dataset found only covers Mineapolis to St. Paul traffic going **east to west**, we will focus the findings of our analysis to **I-94 Westbound** traffic in order to avoid generalization. This segment of I-94 is also notoriously known for its high traffic volume. Therefore, the dataset seems to be a good fit without detering too far from the original goal.\n",
    "\n",
    "<center><img src=\".\\images\\i94_map.jpg\" alt=\"I-94 Map\" width=\"500\" height=\"300\"></center>"
   ]
  },
  {
   "cell_type": "code",
   "execution_count": 67,
   "metadata": {},
   "outputs": [
    {
     "data": {
      "text/html": [
       "<div>\n",
       "<style scoped>\n",
       "    .dataframe tbody tr th:only-of-type {\n",
       "        vertical-align: middle;\n",
       "    }\n",
       "\n",
       "    .dataframe tbody tr th {\n",
       "        vertical-align: top;\n",
       "    }\n",
       "\n",
       "    .dataframe thead th {\n",
       "        text-align: right;\n",
       "    }\n",
       "</style>\n",
       "<table border=\"1\" class=\"dataframe\">\n",
       "  <thead>\n",
       "    <tr style=\"text-align: right;\">\n",
       "      <th></th>\n",
       "      <th>holiday</th>\n",
       "      <th>temp</th>\n",
       "      <th>rain_1h</th>\n",
       "      <th>snow_1h</th>\n",
       "      <th>clouds_all</th>\n",
       "      <th>weather_main</th>\n",
       "      <th>weather_description</th>\n",
       "      <th>date_time</th>\n",
       "      <th>traffic_volume</th>\n",
       "    </tr>\n",
       "  </thead>\n",
       "  <tbody>\n",
       "    <tr>\n",
       "      <th>0</th>\n",
       "      <td>NaN</td>\n",
       "      <td>288.28</td>\n",
       "      <td>0.0</td>\n",
       "      <td>0.0</td>\n",
       "      <td>40</td>\n",
       "      <td>Clouds</td>\n",
       "      <td>scattered clouds</td>\n",
       "      <td>2012-10-02 09:00:00</td>\n",
       "      <td>5545</td>\n",
       "    </tr>\n",
       "    <tr>\n",
       "      <th>1</th>\n",
       "      <td>NaN</td>\n",
       "      <td>289.36</td>\n",
       "      <td>0.0</td>\n",
       "      <td>0.0</td>\n",
       "      <td>75</td>\n",
       "      <td>Clouds</td>\n",
       "      <td>broken clouds</td>\n",
       "      <td>2012-10-02 10:00:00</td>\n",
       "      <td>4516</td>\n",
       "    </tr>\n",
       "    <tr>\n",
       "      <th>2</th>\n",
       "      <td>NaN</td>\n",
       "      <td>289.58</td>\n",
       "      <td>0.0</td>\n",
       "      <td>0.0</td>\n",
       "      <td>90</td>\n",
       "      <td>Clouds</td>\n",
       "      <td>overcast clouds</td>\n",
       "      <td>2012-10-02 11:00:00</td>\n",
       "      <td>4767</td>\n",
       "    </tr>\n",
       "  </tbody>\n",
       "</table>\n",
       "</div>"
      ],
      "text/plain": [
       "  holiday    temp  rain_1h  snow_1h  clouds_all weather_main  \\\n",
       "0     NaN  288.28      0.0      0.0          40       Clouds   \n",
       "1     NaN  289.36      0.0      0.0          75       Clouds   \n",
       "2     NaN  289.58      0.0      0.0          90       Clouds   \n",
       "\n",
       "  weather_description            date_time  traffic_volume  \n",
       "0    scattered clouds  2012-10-02 09:00:00            5545  \n",
       "1       broken clouds  2012-10-02 10:00:00            4516  \n",
       "2     overcast clouds  2012-10-02 11:00:00            4767  "
      ]
     },
     "execution_count": 67,
     "metadata": {},
     "output_type": "execute_result"
    }
   ],
   "source": [
    "# Import the data\n",
    "import pandas as pd\n",
    "\n",
    "i94_traffic = pd.read_csv('Metro_Interstate_Traffic_Volume.csv', encoding='latin1')\n",
    "i94_traffic.head(3)"
   ]
  },
  {
   "cell_type": "code",
   "execution_count": 68,
   "metadata": {},
   "outputs": [
    {
     "data": {
      "text/html": [
       "<div>\n",
       "<style scoped>\n",
       "    .dataframe tbody tr th:only-of-type {\n",
       "        vertical-align: middle;\n",
       "    }\n",
       "\n",
       "    .dataframe tbody tr th {\n",
       "        vertical-align: top;\n",
       "    }\n",
       "\n",
       "    .dataframe thead th {\n",
       "        text-align: right;\n",
       "    }\n",
       "</style>\n",
       "<table border=\"1\" class=\"dataframe\">\n",
       "  <thead>\n",
       "    <tr style=\"text-align: right;\">\n",
       "      <th></th>\n",
       "      <th>holiday</th>\n",
       "      <th>temp</th>\n",
       "      <th>rain_1h</th>\n",
       "      <th>snow_1h</th>\n",
       "      <th>clouds_all</th>\n",
       "      <th>weather_main</th>\n",
       "      <th>weather_description</th>\n",
       "      <th>date_time</th>\n",
       "      <th>traffic_volume</th>\n",
       "    </tr>\n",
       "  </thead>\n",
       "  <tbody>\n",
       "    <tr>\n",
       "      <th>48201</th>\n",
       "      <td>NaN</td>\n",
       "      <td>282.73</td>\n",
       "      <td>0.0</td>\n",
       "      <td>0.0</td>\n",
       "      <td>90</td>\n",
       "      <td>Thunderstorm</td>\n",
       "      <td>proximity thunderstorm</td>\n",
       "      <td>2018-09-30 21:00:00</td>\n",
       "      <td>2159</td>\n",
       "    </tr>\n",
       "    <tr>\n",
       "      <th>48202</th>\n",
       "      <td>NaN</td>\n",
       "      <td>282.09</td>\n",
       "      <td>0.0</td>\n",
       "      <td>0.0</td>\n",
       "      <td>90</td>\n",
       "      <td>Clouds</td>\n",
       "      <td>overcast clouds</td>\n",
       "      <td>2018-09-30 22:00:00</td>\n",
       "      <td>1450</td>\n",
       "    </tr>\n",
       "    <tr>\n",
       "      <th>48203</th>\n",
       "      <td>NaN</td>\n",
       "      <td>282.12</td>\n",
       "      <td>0.0</td>\n",
       "      <td>0.0</td>\n",
       "      <td>90</td>\n",
       "      <td>Clouds</td>\n",
       "      <td>overcast clouds</td>\n",
       "      <td>2018-09-30 23:00:00</td>\n",
       "      <td>954</td>\n",
       "    </tr>\n",
       "  </tbody>\n",
       "</table>\n",
       "</div>"
      ],
      "text/plain": [
       "      holiday    temp  rain_1h  snow_1h  clouds_all  weather_main  \\\n",
       "48201     NaN  282.73      0.0      0.0          90  Thunderstorm   \n",
       "48202     NaN  282.09      0.0      0.0          90        Clouds   \n",
       "48203     NaN  282.12      0.0      0.0          90        Clouds   \n",
       "\n",
       "          weather_description            date_time  traffic_volume  \n",
       "48201  proximity thunderstorm  2018-09-30 21:00:00            2159  \n",
       "48202         overcast clouds  2018-09-30 22:00:00            1450  \n",
       "48203         overcast clouds  2018-09-30 23:00:00             954  "
      ]
     },
     "execution_count": 68,
     "metadata": {},
     "output_type": "execute_result"
    }
   ],
   "source": [
    "i94_traffic.tail(3)"
   ]
  },
  {
   "cell_type": "code",
   "execution_count": 69,
   "metadata": {},
   "outputs": [
    {
     "name": "stdout",
     "output_type": "stream",
     "text": [
      "<class 'pandas.core.frame.DataFrame'>\n",
      "RangeIndex: 48204 entries, 0 to 48203\n",
      "Data columns (total 9 columns):\n",
      " #   Column               Non-Null Count  Dtype  \n",
      "---  ------               --------------  -----  \n",
      " 0   holiday              61 non-null     object \n",
      " 1   temp                 48204 non-null  float64\n",
      " 2   rain_1h              48204 non-null  float64\n",
      " 3   snow_1h              48204 non-null  float64\n",
      " 4   clouds_all           48204 non-null  int64  \n",
      " 5   weather_main         48204 non-null  object \n",
      " 6   weather_description  48204 non-null  object \n",
      " 7   date_time            48204 non-null  object \n",
      " 8   traffic_volume       48204 non-null  int64  \n",
      "dtypes: float64(3), int64(2), object(4)\n",
      "memory usage: 3.3+ MB\n"
     ]
    }
   ],
   "source": [
    "i94_traffic.info()"
   ]
  },
  {
   "cell_type": "markdown",
   "metadata": {},
   "source": [
    "### Initial Observations\n",
    "\n",
    "* ***48204*** entries and ***9*** columns.\n",
    "* Type correction is needed for `date_time` for accurate time-based analysis. The rest of the data types seem consistent with the Hogue's [documentation](https://archive.ics.uci.edu/dataset/492/metro+interstate+traffic+volume) for the dataset.\n",
    "* `holiday` has only ***61 non-null*** values where most of them seem to be ***NaN*** values at a glance. According to the original [dataset](https://archive.ics.uci.edu/dataset/492/metro+interstate+traffic+volume), there should have no missing data for this column. We'll be taking a closer look at the `holiday` column to identify the issue."
   ]
  },
  {
   "cell_type": "code",
   "execution_count": 70,
   "metadata": {},
   "outputs": [
    {
     "data": {
      "text/plain": [
       "holiday\n",
       "NaN                          48143\n",
       "Labor Day                        7\n",
       "Thanksgiving Day                 6\n",
       "Christmas Day                    6\n",
       "New Years Day                    6\n",
       "Martin Luther King Jr Day        6\n",
       "Columbus Day                     5\n",
       "Veterans Day                     5\n",
       "Washingtons Birthday             5\n",
       "Memorial Day                     5\n",
       "Independence Day                 5\n",
       "State Fair                       5\n",
       "Name: count, dtype: int64"
      ]
     },
     "execution_count": 70,
     "metadata": {},
     "output_type": "execute_result"
    }
   ],
   "source": [
    "# Analyzing the holiday column for NaN values\n",
    "i94_traffic['holiday'].value_counts(dropna=False)"
   ]
  },
  {
   "cell_type": "markdown",
   "metadata": {},
   "source": [
    "After checking the original [CSV file](https://archive.ics.uci.edu/static/public/492/metro+interstate+traffic+volume.zip) using `COUNTIF`, the fields where no holidays take place have exactly ***48143*** ***\"None\"*** entries. This explains why ***48143*** entries are `NaN` as `pandas` probably interepreted `None` as missing values while importing the dataset."
   ]
  },
  {
   "cell_type": "markdown",
   "metadata": {},
   "source": [
    "## Cleaning and Prepping the Dataset for a Meaninful Analysis\n",
    "\n",
    "1. Replace the `NaN` missing values. In this case, it would be accurate to replace the NaN values with the string ***\"None\"***.\n",
    "2. Correct the `dtype` for `date_time` column for meaningful time-based analysis.\n",
    "3. Check for unexpected values in the *categorical* columns. We'll look at the *numerical* columns for outliers during the analysis stage on as needed basis. We'll look for any outliers in the *numerical* columns: `temp`, `snow_1h`, `rain_1h`, `clouds_all`, `date_time`, and `traffic_volume`.\n",
    "\n",
    "### 1. Replace the NaN missing values with \"None\":"
   ]
  },
  {
   "cell_type": "code",
   "execution_count": 71,
   "metadata": {},
   "outputs": [
    {
     "name": "stdout",
     "output_type": "stream",
     "text": [
      "<class 'pandas.core.frame.DataFrame'>\n",
      "RangeIndex: 48204 entries, 0 to 48203\n",
      "Data columns (total 9 columns):\n",
      " #   Column               Non-Null Count  Dtype  \n",
      "---  ------               --------------  -----  \n",
      " 0   holiday              48204 non-null  object \n",
      " 1   temp                 48204 non-null  float64\n",
      " 2   rain_1h              48204 non-null  float64\n",
      " 3   snow_1h              48204 non-null  float64\n",
      " 4   clouds_all           48204 non-null  int64  \n",
      " 5   weather_main         48204 non-null  object \n",
      " 6   weather_description  48204 non-null  object \n",
      " 7   date_time            48204 non-null  object \n",
      " 8   traffic_volume       48204 non-null  int64  \n",
      "dtypes: float64(3), int64(2), object(4)\n",
      "memory usage: 3.3+ MB\n"
     ]
    }
   ],
   "source": [
    "# Replace the missing values in the holiday column with \"None\"\n",
    "i94_traffic['holiday'] = i94_traffic['holiday'].fillna(\"None\")\n",
    "\n",
    "# Validate changes\n",
    "i94_traffic.info()"
   ]
  },
  {
   "cell_type": "markdown",
   "metadata": {},
   "source": [
    "All ***48204*** entries are non-null.\n",
    "\n",
    "### 2. Convert the date column to a datetime object for time-based analysis:"
   ]
  },
  {
   "cell_type": "code",
   "execution_count": 72,
   "metadata": {},
   "outputs": [
    {
     "data": {
      "text/plain": [
       "dtype('O')"
      ]
     },
     "execution_count": 72,
     "metadata": {},
     "output_type": "execute_result"
    }
   ],
   "source": [
    "# Get the current date type for date_time column \n",
    "i94_traffic['date_time'].dtype"
   ]
  },
  {
   "cell_type": "code",
   "execution_count": 73,
   "metadata": {},
   "outputs": [
    {
     "name": "stdout",
     "output_type": "stream",
     "text": [
      "<class 'pandas.core.frame.DataFrame'>\n",
      "RangeIndex: 48204 entries, 0 to 48203\n",
      "Data columns (total 9 columns):\n",
      " #   Column               Non-Null Count  Dtype         \n",
      "---  ------               --------------  -----         \n",
      " 0   holiday              48204 non-null  object        \n",
      " 1   temp                 48204 non-null  float64       \n",
      " 2   rain_1h              48204 non-null  float64       \n",
      " 3   snow_1h              48204 non-null  float64       \n",
      " 4   clouds_all           48204 non-null  int64         \n",
      " 5   weather_main         48204 non-null  object        \n",
      " 6   weather_description  48204 non-null  object        \n",
      " 7   date_time            48204 non-null  datetime64[ns]\n",
      " 8   traffic_volume       48204 non-null  int64         \n",
      "dtypes: datetime64[ns](1), float64(3), int64(2), object(3)\n",
      "memory usage: 3.3+ MB\n"
     ]
    }
   ],
   "source": [
    "# Convert the date_time column from 'object' to a 'datetime' object\n",
    "i94_traffic['date_time'] = pd.to_datetime(i94_traffic['date_time'])\n",
    "\n",
    "i94_traffic.info()"
   ]
  },
  {
   "cell_type": "markdown",
   "metadata": {},
   "source": [
    "`date_time` column is now of *datetime64[ns]* type."
   ]
  },
  {
   "cell_type": "markdown",
   "metadata": {},
   "source": [
    "### 3. Check for unexpected values in the Categorical Columns:\n",
    "\n",
    "We start by checking the *categorical* data to ensure the values are relevant and get of rid of any unexpected values."
   ]
  },
  {
   "cell_type": "code",
   "execution_count": 74,
   "metadata": {},
   "outputs": [
    {
     "data": {
      "text/plain": [
       "weather_main\n",
       "Clouds          15164\n",
       "Clear           13391\n",
       "Mist             5950\n",
       "Rain             5672\n",
       "Snow             2876\n",
       "Drizzle          1821\n",
       "Haze             1360\n",
       "Thunderstorm     1034\n",
       "Fog               912\n",
       "Smoke              20\n",
       "Squall              4\n",
       "Name: count, dtype: int64"
      ]
     },
     "execution_count": 74,
     "metadata": {},
     "output_type": "execute_result"
    }
   ],
   "source": [
    "i94_traffic['weather_main'].value_counts()"
   ]
  },
  {
   "cell_type": "markdown",
   "metadata": {},
   "source": [
    ">>i94_traffic['weather_description'].value_counts()\n",
    "\n",
    ">>i94_traffic['weather_description'].str.extract(pattern)\n",
    "\n",
    "We could potentially extract severity levels of each weather type from the weather description. For now, we'll keep this in the back burner since we're not sure if it's relevant to the analysis and how much value it will provide yet."
   ]
  },
  {
   "cell_type": "markdown",
   "metadata": {},
   "source": [
    "We noticed a discrepency in the rain data."
   ]
  },
  {
   "cell_type": "code",
   "execution_count": 181,
   "metadata": {},
   "outputs": [
    {
     "data": {
      "text/plain": [
       "(-0.0566, 5.563]    47928\n",
       "(5.563, 11.126]       201\n",
       "(11.126, 16.689]       42\n",
       "(16.689, 22.252]       16\n",
       "(22.252, 27.815]       12\n",
       "(27.815, 33.378]        3\n",
       "(33.378, 38.941]        0\n",
       "(38.941, 44.504]        1\n",
       "(44.504, 50.067]        0\n",
       "(50.067, 55.63]         1\n",
       "Name: count, dtype: int64"
      ]
     },
     "execution_count": 181,
     "metadata": {},
     "output_type": "execute_result"
    }
   ],
   "source": [
    "# Check the rain column\n",
    "i94_traffic['rain_1h'].value_counts(bins = 10).sort_index()"
   ]
  },
  {
   "cell_type": "code",
   "execution_count": 182,
   "metadata": {},
   "outputs": [
    {
     "data": {
      "text/plain": [
       "(-0.0566, 5.563]    47928\n",
       "(5.563, 11.126]       201\n",
       "(11.126, 16.689]       42\n",
       "(16.689, 22.252]       16\n",
       "(22.252, 27.815]       12\n",
       "(27.815, 33.378]        3\n",
       "(33.378, 38.941]        0\n",
       "(38.941, 44.504]        1\n",
       "(44.504, 50.067]        0\n",
       "(50.067, 55.63]         1\n",
       "Name: count, dtype: int64"
      ]
     },
     "execution_count": 182,
     "metadata": {},
     "output_type": "execute_result"
    }
   ],
   "source": [
    "# Replace rain column where rain volume in a hour is greater than 1000\n",
    "i94_traffic.loc[i94_traffic['rain_1h'] > 1000, 'rain_1h'] = 0.00\n",
    "i94_traffic['rain_1h'].value_counts(bins = 10).sort_index()"
   ]
  },
  {
   "cell_type": "markdown",
   "metadata": {},
   "source": [
    "We see a more accurate distribution of rain volume. All the other columns seem to be consistent and represent accurate data."
   ]
  },
  {
   "cell_type": "markdown",
   "metadata": {},
   "source": [
    "## Exploration: Finding Patterns in the Traffic Volume\n",
    "\n",
    "We'll now explore the distribution of a few columns for our analysis and also key an eye for any ***outliers*** in the *numerical* columns: `temp`, `snow_1h`, `rain_1h`, `clouds_all`, `date_time`, and `traffic_volume`.\n",
    "\n",
    "We'll try to find any patterns in the traffic volume. We'll look at a few things:\n",
    "\n",
    "1. Distribution of traffic volume. We'll pursue any leads to our investigation.\n",
    "2. Time-based analysis of traffic by hour, weeek, etc and any difference in business days vs. weekends. \n",
    "3. Can we derive any relaible correlations between traffic volume and weather, holidays, and temperature indicators? We'll pursue strong correlations further."
   ]
  },
  {
   "cell_type": "markdown",
   "metadata": {},
   "source": [
    "### Understanding the Distribution of Traffic Volume"
   ]
  },
  {
   "cell_type": "code",
   "execution_count": 183,
   "metadata": {},
   "outputs": [
    {
     "data": {
      "image/png": "[encoded data removed]",
      "text/plain": [
       "<Figure size 640x480 with 1 Axes>"
      ]
     },
     "metadata": {},
     "output_type": "display_data"
    }
   ],
   "source": [
    "import matplotlib.pyplot as plt\n",
    "\n",
    "# Added inline magic to generate graphs in Jupyter Notebook\n",
    "%matplotlib inline\n",
    "\n",
    "traffic_vol = i94_traffic['traffic_volume']\n",
    "\n",
    "# Visualize the distribution of traffic volume\n",
    "traffic_vol.plot.hist(xlabel='Traffic Volume', title='Traffic Volume Distribution')\n",
    "plt.show()\n"
   ]
  },
  {
   "cell_type": "code",
   "execution_count": 184,
   "metadata": {},
   "outputs": [
    {
     "data": {
      "text/plain": [
       "count    48204.000000\n",
       "mean      3259.818355\n",
       "std       1986.860670\n",
       "min          0.000000\n",
       "25%       1193.000000\n",
       "50%       3380.000000\n",
       "75%       4933.000000\n",
       "max       7280.000000\n",
       "Name: traffic_volume, dtype: float64"
      ]
     },
     "execution_count": 184,
     "metadata": {},
     "output_type": "execute_result"
    }
   ],
   "source": [
    "# Generate key insights about Traffic Volume\n",
    "traffic_vol.describe()"
   ]
  },
  {
   "cell_type": "markdown",
   "metadata": {},
   "source": [
    "**Quick Observations:**\n",
    "\n",
    "* The traffic volume range from ***0 to 7280***, with the majority of the bulk distributed between ***0 - 500*** (8000 count) and ***4500 - 5000*** (8000 count).\n",
    "* About 25% of the time, there were 1,193 or fewer vehicles each hour. One possibility is that this is mostly nighttime traffic.\n",
    "* About 75% of the time, there were 4,933 or fewer vechiles each hour. The rest of the 25%, the traffic exceeded 4,933 vehicles.\n",
    "\n",
    "The possibility of varying nighttime vs. daytime traffic could give a different perspective to our analysis."
   ]
  },
  {
   "cell_type": "markdown",
   "metadata": {},
   "source": [
    "### Exploration: Nighttime VS Daytime Traffic Comparisions\n",
    "\n",
    "Below, we seggregated the dataset into two parts:\n",
    "* Daytime data: hours from 7 a.m. to 7 p.m. (12 hours)\n",
    "* Nighttime data: hours from 7 p.m. to 7 a.m. (12 hours)\n",
    "\n",
    "The `date_time` column has already been typed correctly in the cleaning stage to derive meaninful analysis."
   ]
  },
  {
   "cell_type": "code",
   "execution_count": 202,
   "metadata": {},
   "outputs": [
    {
     "data": {
      "text/plain": [
       "date_time\n",
       "07:00:00    2079\n",
       "08:00:00    2080\n",
       "09:00:00    2018\n",
       "10:00:00    2078\n",
       "11:00:00    1952\n",
       "12:00:00    1955\n",
       "13:00:00    1905\n",
       "14:00:00    1969\n",
       "15:00:00    1934\n",
       "16:00:00    1988\n",
       "17:00:00    1933\n",
       "18:00:00    1986\n",
       "Name: count, dtype: int64"
      ]
     },
     "execution_count": 202,
     "metadata": {},
     "output_type": "execute_result"
    }
   ],
   "source": [
    "import datetime as dt\n",
    "\n",
    "date_col = i94_traffic['date_time']\n",
    "\n",
    "# Create a boolean for daytime data selection - between 7:00:00 incl. to 19:00:00 excl.\n",
    "daytime_bool = (date_col.dt.time >= dt.time(7, 0, 0)) & (date_col.dt.time < dt.time(19, 0, 0))\n",
    "\n",
    "# Isolate daytime traffic from the original dataset based on the boolean criteria\n",
    "daytime_traffic = i94_traffic.copy().loc[daytime_bool]\n",
    "\n",
    "# Verify the daytime traffic data\n",
    "daytime_traffic['date_time'].dt.time.value_counts().sort_index()"
   ]
  },
  {
   "cell_type": "code",
   "execution_count": 230,
   "metadata": {},
   "outputs": [
    {
     "data": {
      "text/plain": [
       "date_time\n",
       "00:00:00    2037\n",
       "01:00:00    2049\n",
       "02:00:00    2019\n",
       "03:00:00    2025\n",
       "04:00:00    2091\n",
       "05:00:00    2063\n",
       "06:00:00    2087\n",
       "19:00:00    1961\n",
       "20:00:00    1979\n",
       "21:00:00    1982\n",
       "22:00:00    1994\n",
       "23:00:00    2040\n",
       "Name: count, dtype: int64"
      ]
     },
     "execution_count": 230,
     "metadata": {},
     "output_type": "execute_result"
    }
   ],
   "source": [
    "# Create a boolean for nighttime data selection - between 7:00:00 excl. to 19:00:00 incl.\n",
    "nighttime_bool = (date_col.dt.time >= dt.time(19, 0, 0)) | (date_col.dt.time < dt.time(7, 0, 0))\n",
    "\n",
    "# Isolate daytime traffic from the original dataset based on the boolean criteria\n",
    "nighttime_traffic = i94_traffic.copy().loc[nighttime_bool]\n",
    "\n",
    "# Verify the daytime traffic data\n",
    "# custom_index = ['19:00:00', '20:00:00', '21:00:00', '22:00:00', '23:00:00', '00:00:00', '01:00:00', '02:00:00', '03:00:00', '04:00:00', '05:00:00', '06:00:00']\n",
    "nighttime_traffic['date_time'].dt.time.value_counts().sort_index()"
   ]
  },
  {
   "cell_type": "code",
   "execution_count": null,
   "metadata": {},
   "outputs": [],
   "source": []
  }
 ],
 "metadata": {
  "kernelspec": {
   "display_name": "Python 3",
   "language": "python",
   "name": "python3"
  },
  "language_info": {
   "codemirror_mode": {
    "name": "ipython",
    "version": 3
   },
   "file_extension": ".py",
   "mimetype": "text/x-python",
   "name": "python",
   "nbconvert_exporter": "python",
   "pygments_lexer": "ipython3",
   "version": "3.9.2"
  }
 },
 "nbformat": 4,
 "nbformat_minor": 4
}
